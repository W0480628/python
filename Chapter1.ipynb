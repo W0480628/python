{
 "cells": [
  {
   "cell_type": "markdown",
   "metadata": {},
   "source": [
    "# Exercise 1.2"
   ]
  },
  {
   "cell_type": "code",
   "execution_count": 2,
   "metadata": {},
   "outputs": [
    {
     "name": "stdout",
     "output_type": "stream",
     "text": [
      "This program illustrates a chaotic function\n"
     ]
    },
    {
     "ename": "SyntaxError",
     "evalue": "invalid syntax (<string>, line 0)",
     "output_type": "error",
     "traceback": [
      "Traceback \u001b[1;36m(most recent call last)\u001b[0m:\n",
      "\u001b[0m  File \u001b[0;32m~\\AppData\\Roaming\\Python\\Python311\\site-packages\\IPython\\core\\interactiveshell.py:3577\u001b[0m in \u001b[0;35mrun_code\u001b[0m\n    exec(code_obj, self.user_global_ns, self.user_ns)\u001b[0m\n",
      "\u001b[0m  Cell \u001b[0;32mIn[2], line 11\u001b[0m\n    main()\u001b[0m\n",
      "\u001b[1;36m  Cell \u001b[1;32mIn[2], line 5\u001b[1;36m in \u001b[1;35mmain\u001b[1;36m\n\u001b[1;33m    x = eval(input(\"Enter a number between 0 and 1: \") )\u001b[1;36m\n",
      "\u001b[1;36m  File \u001b[1;32m<string>\u001b[1;36m\u001b[0m\n\u001b[1;33m    \u001b[0m\n\u001b[1;37m    ^\u001b[0m\n\u001b[1;31mSyntaxError\u001b[0m\u001b[1;31m:\u001b[0m invalid syntax\n"
     ]
    }
   ],
   "source": [
    "# File: chaos. py \n",
    "# A simple program illustrating chaotic behavior. \n",
    "def main() : \n",
    "   print(\"This program illustrates a chaotic function\") \n",
    "   x = eval(input(\"Enter a number between 0 and 1: \") ) \n",
    "   for i in range(10) : \n",
    "      x = 3.9 * x * (1 - x)\n",
    "      print(x)\n",
    "\n",
    "    \n",
    "main()"
   ]
  },
  {
   "cell_type": "markdown",
   "metadata": {},
   "source": [
    "# Exercise 1.3\n",
    "Modify the chaos program using 2.0 in place of 3.9 as the multiplier in the \n",
    "logistic function. Your modified line of code should look like this:\n",
    "> X = 2. 0 * X * (1 - X) \n",
    "\n",
    "Run the program for various input values and compare the results to those \n",
    "obtained from the original program. Write a short paragraph describing \n",
    "any differences that you notice in the behavior of the two versions."
   ]
  },
  {
   "cell_type": "markdown",
   "metadata": {},
   "source": []
  },
  {
   "cell_type": "code",
   "execution_count": 1,
   "metadata": {},
   "outputs": [
    {
     "name": "stdout",
     "output_type": "stream",
     "text": [
      "This program illustrates a chaotic function\n",
      "0.31999999999999995\n",
      "0.4352\n",
      "0.49160191999999997\n",
      "0.49985894450462726\n",
      "0.4999999602066944\n",
      "0.4999999999999968\n",
      "0.5\n",
      "0.5\n",
      "0.5\n",
      "0.5\n"
     ]
    }
   ],
   "source": [
    "# File: chaos. py \n",
    "# A simple program illustrating chaotic behavior. \n",
    "def main() : \n",
    "   print(\"This program illustrates a chaotic function\") \n",
    "   x = eval(input(\"Enter a number between 0 and 1: \") ) \n",
    "   for i in range(10) : \n",
    "      x = 2.0 * x * (1 - x)\n",
    "      print(x)\n",
    "\n",
    "    \n",
    "main()"
   ]
  },
  {
   "cell_type": "markdown",
   "metadata": {},
   "source": [
    "# Exercise 1.4\n",
    "Modify the chaos program so that it prints out 20 values instead of 10."
   ]
  },
  {
   "cell_type": "code",
   "execution_count": 2,
   "metadata": {},
   "outputs": [
    {
     "name": "stdout",
     "output_type": "stream",
     "text": [
      "This program illustrates a chaotic function\n",
      "0.48\n",
      "0.4992\n",
      "0.49999872\n",
      "0.4999999999967232\n",
      "0.5\n",
      "0.5\n",
      "0.5\n",
      "0.5\n",
      "0.5\n",
      "0.5\n",
      "0.5\n",
      "0.5\n",
      "0.5\n",
      "0.5\n",
      "0.5\n",
      "0.5\n",
      "0.5\n",
      "0.5\n",
      "0.5\n",
      "0.5\n"
     ]
    }
   ],
   "source": [
    "# File: chaos. py \n",
    "# A simple program illustrating chaotic behavior. \n",
    "def main() : \n",
    "   print(\"This program illustrates a chaotic function\") \n",
    "   x = eval(input(\"Enter a number between 0 and 1: \") ) \n",
    "   for i in range(20) : \n",
    "      x = 2.0 * x * (1 - x)\n",
    "      print(x)\n",
    "\n",
    "    \n",
    "main()"
   ]
  }
 ],
 "metadata": {
  "kernelspec": {
   "display_name": "Python 3",
   "language": "python",
   "name": "python3"
  },
  "language_info": {
   "codemirror_mode": {
    "name": "ipython",
    "version": 3
   },
   "file_extension": ".py",
   "mimetype": "text/x-python",
   "name": "python",
   "nbconvert_exporter": "python",
   "pygments_lexer": "ipython3",
   "version": "3.11.7"
  }
 },
 "nbformat": 4,
 "nbformat_minor": 2
}
