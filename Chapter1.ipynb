{
 "cells": [
  {
   "cell_type": "markdown",
   "metadata": {},
   "source": [
    "# Exercise 1.2"
   ]
  },
  {
   "cell_type": "code",
   "execution_count": 4,
   "metadata": {},
   "outputs": [
    {
     "name": "stdout",
     "output_type": "stream",
     "text": [
      "This program illustrates a chaotic function\n",
      "0.6239999999999999\n",
      "0.9150336\n",
      "0.303213732397056\n",
      "0.8239731430433197\n",
      "0.5656614700878675\n",
      "0.9581854282490104\n",
      "0.1562578420270566\n",
      "0.5141811824452056\n",
      "0.9742156868513775\n",
      "0.09796598114189749\n"
     ]
    }
   ],
   "source": [
    "# File: chaos. py \n",
    "# A simple program illustrating chaotic behavior. \n",
    "def main() : \n",
    "   print(\"This program illustrates a chaotic function\") \n",
    "   x = eval(input(\"Enter a number between 0 and 1: \") ) \n",
    "   for i in range(10) : \n",
    "      x = 3.9 * x * (1 - x)\n",
    "      print(x)\n",
    "\n",
    "    \n",
    "main()"
   ]
  },
  {
   "cell_type": "markdown",
   "metadata": {},
   "source": [
    "# Exercise 1.3\n",
    "Modify the chaos program using 2.0 in place of 3.9 as the multiplier in the \n",
    "logistic function. Your modified line of code should look like this:\n",
    "> X = 2. 0 * X * (1 - X) \n",
    "\n",
    "Run the program for various input values and compare the results to those \n",
    "obtained from the original program. Write a short paragraph describing \n",
    "any differences that you notice in the behavior of the two versions."
   ]
  },
  {
   "cell_type": "markdown",
   "metadata": {},
   "source": []
  },
  {
   "cell_type": "code",
   "execution_count": 1,
   "metadata": {},
   "outputs": [
    {
     "name": "stdout",
     "output_type": "stream",
     "text": [
      "This program illustrates a chaotic function\n",
      "0.31999999999999995\n",
      "0.4352\n",
      "0.49160191999999997\n",
      "0.49985894450462726\n",
      "0.4999999602066944\n",
      "0.4999999999999968\n",
      "0.5\n",
      "0.5\n",
      "0.5\n",
      "0.5\n"
     ]
    }
   ],
   "source": [
    "# File: chaos. py \n",
    "# A simple program illustrating chaotic behavior. \n",
    "def main() : \n",
    "   print(\"This program illustrates a chaotic function\") \n",
    "   x = eval(input(\"Enter a number between 0 and 1: \") ) \n",
    "   for i in range(10) : \n",
    "      x = 2.0 * x * (1 - x)\n",
    "      print(x)\n",
    "\n",
    "    \n",
    "main()"
   ]
  },
  {
   "cell_type": "markdown",
   "metadata": {},
   "source": [
    "# Exercise 1.4\n",
    "Modify the chaos program so that it prints out 20 values instead of 10."
   ]
  },
  {
   "cell_type": "code",
   "execution_count": 2,
   "metadata": {},
   "outputs": [
    {
     "name": "stdout",
     "output_type": "stream",
     "text": [
      "This program illustrates a chaotic function\n",
      "0.48\n",
      "0.4992\n",
      "0.49999872\n",
      "0.4999999999967232\n",
      "0.5\n",
      "0.5\n",
      "0.5\n",
      "0.5\n",
      "0.5\n",
      "0.5\n",
      "0.5\n",
      "0.5\n",
      "0.5\n",
      "0.5\n",
      "0.5\n",
      "0.5\n",
      "0.5\n",
      "0.5\n",
      "0.5\n",
      "0.5\n"
     ]
    }
   ],
   "source": [
    "# File: chaos. py \n",
    "# A simple program illustrating chaotic behavior. \n",
    "def main() : \n",
    "   print(\"This program illustrates a chaotic function\") \n",
    "   x = eval(input(\"Enter a number between 0 and 1: \") ) \n",
    "   for i in range(20) : \n",
    "      x = 3.9 * x * (1 - x)\n",
    "      print(x)\n",
    "\n",
    "    \n",
    "main()"
   ]
  },
  {
   "cell_type": "markdown",
   "metadata": {},
   "source": [
    "# Exercise 1.5\n",
    "Modify the chaos program so that the number of values to print is determined by the user. You will have to add a line near the top of the program \n",
    "to get another value from the user: \n",
    "```py\n",
    "n = eval(input(\"How many numbers should I print? \") ) \n",
    "```\n",
    "Then you will need to change the loop to use n instead of a specific number."
   ]
  },
  {
   "cell_type": "code",
   "execution_count": 6,
   "metadata": {},
   "outputs": [
    {
     "name": "stdout",
     "output_type": "stream",
     "text": [
      "This program illustrates a chaotic function\n",
      "0.6239999999999999\n",
      "0.9150336\n",
      "0.303213732397056\n",
      "0.8239731430433197\n",
      "0.5656614700878675\n",
      "0.9581854282490104\n",
      "0.1562578420270566\n",
      "0.5141811824452056\n",
      "0.9742156868513775\n",
      "0.09796598114189749\n",
      "0.3446377259551312\n",
      "0.8808639988340675\n",
      "0.4092761961292813\n",
      "0.9428998465037868\n",
      "0.20997493127099623\n",
      "0.6469532920840729\n",
      "0.8907784467880473\n",
      "0.379439601551093\n",
      "0.9183142422707791\n",
      "0.29255145938235344\n",
      "0.8071639016828737\n",
      "0.6070363162615203\n",
      "0.9303185853045388\n",
      "0.25282106905185137\n",
      "0.7367200467717885\n",
      "0.7564581158798128\n",
      "0.7184940157175683\n",
      "0.7888154238728828\n",
      "0.6496840386391953\n",
      "0.8876192854489735\n",
      "0.38903002923730606\n",
      "0.9269740957968146\n",
      "0.26400317392212125\n",
      "0.7577914425165531\n",
      "0.7158199314444154\n",
      "0.7933448530461786\n",
      "0.6394003090461319\n",
      "0.8992134599675874\n",
      "0.35345159218475924\n",
      "0.8912419002505898\n",
      "0.37802612440439937\n",
      "0.9169772573215367\n",
      "0.29690687081877504\n",
      "0.8141374054295752\n",
      "0.5901389929889012\n",
      "0.9433123515774926\n",
      "0.208549219861451\n",
      "0.6437201267508615\n",
      "0.8944436481501934\n",
      "0.3682154128924691\n",
      "0.9072680081435007\n",
      "0.32811780121701917\n",
      "0.8597803879919586\n",
      "0.4701764824237875\n",
      "0.9715311754175873\n",
      "0.10786756737630333\n",
      "0.3753054056100258\n",
      "0.9143599067066872\n",
      "0.30539288408469933\n",
      "0.827299474697002\n",
      "0.5572127100659594\n",
      "0.962234152646943\n",
      "0.1417243936943741\n",
      "0.47439050071271094\n",
      "0.972442198830392\n",
      "0.10451363818078713\n",
      "0.3650030966985103\n",
      "0.9039257607861321\n",
      "0.33869152111604317\n",
      "0.8735203410965617\n",
      "0.43088196366972187\n",
      "0.9563685185100007\n",
      "0.16273832372064984\n",
      "0.5313927906816469\n",
      "0.9711565215035514\n",
      "0.10924497575422681\n",
      "0.37951099300407226\n",
      "0.9183813568532274\n",
      "0.2923324569268443\n",
      "0.8068093470604402\n",
      "0.6078852957697508\n",
      "0.9296069755310261\n",
      "0.2552076016428289\n",
      "0.7412990586555218\n",
      "0.7479215807386402\n",
      "0.7352860702358102\n",
      "0.7590978140966587\n",
      "0.7131864586482999\n",
      "0.7977509820110873\n",
      "0.6292429755745894\n",
      "0.9098553877320418\n",
      "0.319872388473369\n",
      "0.8484607699062734\n",
      "0.501442858161676\n",
      "0.9749918808252687\n",
      "0.0950925812852877\n",
      "0.33559493085217573\n",
      "0.8695867956301465\n",
      "0.4422818419337772\n",
      "0.9620075954948257\n"
     ]
    }
   ],
   "source": [
    "# File: chaos. py \n",
    "# A simple program illustrating chaotic behavior. \n",
    "def main() : \n",
    "   n= eval(input(\"How many numbers should I print?\"))\n",
    "   print(\"This program illustrates a chaotic function\") \n",
    "   x = eval(input(\"Enter a number between 0 and 1: \") ) \n",
    "   for i in range(n) : \n",
    "      x = 3.9 * x * (1 - x)\n",
    "      print(x)\n",
    "\n",
    "    \n",
    "main()"
   ]
  }
 ],
 "metadata": {
  "kernelspec": {
   "display_name": "Python 3",
   "language": "python",
   "name": "python3"
  },
  "language_info": {
   "codemirror_mode": {
    "name": "ipython",
    "version": 3
   },
   "file_extension": ".py",
   "mimetype": "text/x-python",
   "name": "python",
   "nbconvert_exporter": "python",
   "pygments_lexer": "ipython3",
   "version": "3.11.7"
  }
 },
 "nbformat": 4,
 "nbformat_minor": 2
}
