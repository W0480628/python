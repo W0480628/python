{
 "cells": [
  {
   "cell_type": "markdown",
   "metadata": {},
   "source": [
    "# Exercise 1.2"
   ]
  },
  {
   "cell_type": "code",
   "execution_count": 1,
   "metadata": {},
   "outputs": [
    {
     "name": "stdout",
     "output_type": "stream",
     "text": [
      "This program illustrates a chaotic function\n",
      "0.9359999999999999\n",
      "0.2336256000000002\n",
      "0.6982742481960964\n",
      "0.8216805577588637\n",
      "0.5714343131637907\n",
      "0.9550988417209882\n",
      "0.16725167263043805\n",
      "0.5431863474677594\n",
      "0.9677262636303364\n",
      "0.12180535501057962\n"
     ]
    }
   ],
   "source": [
    "# File: chaos. py \n",
    "# A simple program illustrating chaotic behavior. \n",
    "def main() : \n",
    "   print(\"This program illustrates a chaotic function\") \n",
    "   x = eval(input(\"Enter a number between 0 and 1: \") ) \n",
    "   for i in range(10) : \n",
    "      x = 3.9 * x * (1 - x)\n",
    "      print(x)\n",
    "\n",
    "    \n",
    "main()"
   ]
  }
 ],
 "metadata": {
  "kernelspec": {
   "display_name": "Python 3",
   "language": "python",
   "name": "python3"
  },
  "language_info": {
   "codemirror_mode": {
    "name": "ipython",
    "version": 3
   },
   "file_extension": ".py",
   "mimetype": "text/x-python",
   "name": "python",
   "nbconvert_exporter": "python",
   "pygments_lexer": "ipython3",
   "version": "3.12.0"
  }
 },
 "nbformat": 4,
 "nbformat_minor": 2
}
